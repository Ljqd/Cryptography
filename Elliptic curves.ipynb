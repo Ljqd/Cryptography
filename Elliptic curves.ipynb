{
 "cells": [
  {
   "cell_type": "code",
   "execution_count": 2,
   "id": "7833d40b",
   "metadata": {},
   "outputs": [],
   "source": [
    "class Point:\n",
    "    def __init__(self, x, y, a, b, p):\n",
    "        self.x = x % p if x is not None else None\n",
    "        self.y = y % p if y is not None else None\n",
    "        self.a = a % p if a is not None else None\n",
    "        self.b = b % p if b is not None else None\n",
    "        self.p = p\n",
    "\n",
    "        if self.x is None and self.y is None:\n",
    "            return  # Point at infinity\n",
    "\n",
    "        if (self.y ** 2) % p != (self.x ** 3 + a * self.x + b) % p:\n",
    "            raise ValueError(f\"({self.x}, {self.y}) is not on the curve.\")\n",
    "            \n",
    "    def __str__(self):\n",
    "        return f\"Point({self.x}, {self.y}) on curve y^2 = x^3 + {self.a}x + {self.b} mod {self.p}\"\n",
    "            \n",
    "    def __get_inf(self):\n",
    "        return Point(None, None, self.a, self.b, self.p)\n",
    "\n",
    "    def __add__(self, other):\n",
    "        if self.p != other.p:\n",
    "            raise TypeError(f\"Points {self}, {other} are not in the same field\")\n",
    "        \n",
    "        if self.a != other.a or self.b != other.b:\n",
    "            raise TypeError(f\"Points {self}, {other} are not on the same curve\")\n",
    "        \n",
    "        if self.x is None: # self is the point at infinity\n",
    "            return other\n",
    "        elif other.x is None: # other is the point at infinity\n",
    "            return self\n",
    "\n",
    "        if self.x == other.x and self.y != other.y:\n",
    "            return self.__get_inf()\n",
    "\n",
    "        if self.x != other.x:\n",
    "            slope = (other.y - self.y) * pow(other.x - self.x, -1, self.p)\n",
    "            x3 = (slope ** 2 - self.x - other.x) % self.p\n",
    "            y3 = (slope * (self.x - x3) - self.y) % self.p\n",
    "            return Point(x3, y3, self.a, self.b, self.p)\n",
    "        \n",
    "        if self == other:\n",
    "            slope = (3 * self.x ** 2 + self.a) * pow(2 * self.y, -1, self.p)\n",
    "            x3 = (slope ** 2 - 2 * self.x) % self.p\n",
    "            y3 = (slope * (self.x - x3) - self.y) % self.p\n",
    "            return Point(x3, y3, self.a, self.b, self.p)\n",
    "        \n",
    "    def __neg__(self):\n",
    "        return Point(self.x, -self.y % self.p, self.a, self.b, self.p)\n",
    "\n",
    "    def __sub__(self, other):\n",
    "        return self + -other\n",
    "\n",
    "    def __eq__(self, other):\n",
    "        return self.x == other.x and self.y == other.y and self.a == other.a and self.b == other.b and self.p == other.p\n",
    "    \n",
    "    def __rmul__(self, coefficient):\n",
    "        coef = coefficient\n",
    "        current = self\n",
    "        result = self.__get_inf()\n",
    "        \n",
    "        while coef:\n",
    "            if coef & 1:\n",
    "                result += current\n",
    "                \n",
    "            current += current\n",
    "            coef >>= 1\n",
    "\n",
    "        return result"
   ]
  },
  {
   "cell_type": "code",
   "execution_count": 3,
   "id": "180d517e",
   "metadata": {},
   "outputs": [],
   "source": [
    "# Elliptic curve equation: y^2 = x^3 + ax + b\n",
    "a = -1\n",
    "b = 1\n",
    "p = 97"
   ]
  },
  {
   "cell_type": "code",
   "execution_count": 4,
   "id": "49573335",
   "metadata": {},
   "outputs": [
    {
     "name": "stdout",
     "output_type": "stream",
     "text": [
      "Point(17, 85) on curve y^2 = x^3 + 96x + 1 mod 97\n",
      "Point(58, 52) on curve y^2 = x^3 + 96x + 1 mod 97\n"
     ]
    }
   ],
   "source": [
    "# Initialize points P and Q\n",
    "P = Point(17, 85, a, b, p)\n",
    "Q = Point(58, 52, a, b, p)\n",
    "print(P)\n",
    "print(Q)"
   ]
  },
  {
   "cell_type": "code",
   "execution_count": 5,
   "id": "3716f5a5",
   "metadata": {},
   "outputs": [
    {
     "name": "stdout",
     "output_type": "stream",
     "text": [
      "Encrypted Point: 85 15\n"
     ]
    }
   ],
   "source": [
    "# Encryption: C = P + kQ (k is an integer)\n",
    "k = 20  # Private key\n",
    "C = P\n",
    "for _ in range(k):\n",
    "    C += Q\n",
    "\n",
    "print(\"Encrypted Point:\", C.x, C.y)"
   ]
  },
  {
   "cell_type": "code",
   "execution_count": 6,
   "id": "903f684e",
   "metadata": {},
   "outputs": [
    {
     "name": "stdout",
     "output_type": "stream",
     "text": [
      "Decrypted Point: 17 85\n"
     ]
    }
   ],
   "source": [
    "# Decryption: P = C - kQ\n",
    "D = C\n",
    "for _ in range(k):\n",
    "    D -= Q\n",
    "\n",
    "print(\"Decrypted Point:\", D.x, D.y)\n",
    "\n",
    "# Now, D should be the same as the original point P.\n",
    "assert D == P"
   ]
  },
  {
   "cell_type": "code",
   "execution_count": null,
   "id": "1df4f6b5",
   "metadata": {},
   "outputs": [],
   "source": []
  }
 ],
 "metadata": {
  "kernelspec": {
   "display_name": "Python 3 (ipykernel)",
   "language": "python",
   "name": "python3"
  },
  "language_info": {
   "codemirror_mode": {
    "name": "ipython",
    "version": 3
   },
   "file_extension": ".py",
   "mimetype": "text/x-python",
   "name": "python",
   "nbconvert_exporter": "python",
   "pygments_lexer": "ipython3",
   "version": "3.9.13"
  }
 },
 "nbformat": 4,
 "nbformat_minor": 5
}
