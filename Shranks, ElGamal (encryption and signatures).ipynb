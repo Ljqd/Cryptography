{
 "cells": [
  {
   "cell_type": "code",
   "execution_count": 1,
   "id": "ab13b0ab",
   "metadata": {},
   "outputs": [],
   "source": [
    "import numpy as np\n",
    "import random\n",
    "import math"
   ]
  },
  {
   "cell_type": "code",
   "execution_count": null,
   "id": "f19cfe92",
   "metadata": {},
   "outputs": [],
   "source": [
    "import random\n",
    "import math"
   ]
  },
  {
   "cell_type": "markdown",
   "id": "3152191b",
   "metadata": {},
   "source": [
    "# Helper Functions"
   ]
  },
  {
   "cell_type": "code",
   "execution_count": null,
   "id": "e42dba2a",
   "metadata": {},
   "outputs": [],
   "source": [
    "def string_to_int(s):\n",
    "    return int(\"\".join([str(ord(char)) for char in s]))\n",
    "\n",
    "def int_to_string(i):\n",
    "    ints = list(map(int, list(str(i))))\n",
    "    return \"\".join([chr(10 * ints[i] + ints[i + 1]) for i in range(0, len(ints) - 1, 2)])\n",
    "\n",
    "def egcd(a, b):\n",
    "    if a == 0:\n",
    "        return b, 0, 1\n",
    "    else:\n",
    "        g, x, y = egcd(b % a, a)\n",
    "        return g, y - (b // a) * x, x"
   ]
  },
  {
   "cell_type": "markdown",
   "id": "2de650dd",
   "metadata": {},
   "source": [
    "# Shanks Algorithm for Discrete Logarithm"
   ]
  },
  {
   "cell_type": "code",
   "execution_count": null,
   "id": "fb336ad0",
   "metadata": {},
   "outputs": [],
   "source": [
    "def discrete_log(arg, base, prime):\n",
    "    N = prime - 1\n",
    "    n = 1 + int(math.sqrt(N))\n",
    "    table = {1: 0}\n",
    "    current = 1\n",
    "    next_el = lambda x: (x * base) % prime\n",
    "\n",
    "    for i in range(1, n + 1):\n",
    "        current = next_el(current)\n",
    "        if current not in table:\n",
    "            table[current] = i\n",
    "            \n",
    "    if arg in table:\n",
    "        return table[arg]\n",
    "    \n",
    "    a = pow(base, n, prime)\n",
    "    multiplier = egcd(a, prime)[1] % prime\n",
    "\n",
    "    for i in range(1, n + 1):\n",
    "        arg = next_el(arg)\n",
    "        if arg in table:\n",
    "            return (table[arg] + n * i + 1) % prime\n",
    "    return -1"
   ]
  },
  {
   "cell_type": "markdown",
   "id": "01c244b8",
   "metadata": {},
   "source": [
    "# ElGamal Functions"
   ]
  },
  {
   "cell_type": "code",
   "execution_count": 6,
   "id": "a01937b4",
   "metadata": {},
   "outputs": [],
   "source": [
    "def find_public_key(alpha, private_key, p):\n",
    "    return pow(alpha, private_key, p)\n",
    "\n",
    "def encrypt_message(alpha, k, m, p, beta_a):\n",
    "    c1 = pow(alpha, k, p)\n",
    "    c2 = (pow(beta_a, k, p) * m) % p\n",
    "    return c1, c2\n",
    "\n",
    "def decrypt_message(c1, c2, p, xa):\n",
    "    return (c2 * pow(c1, -xa, p)) % p\n",
    "\n",
    "# Signature Functions\n",
    "def signature(alpha, e, p, xb, m):\n",
    "    s = xb\n",
    "    s1 = pow(alpha, e, p)\n",
    "    s2 = ((m - s * s1) * pow(e, -1, p - 1)) % (p - 1)\n",
    "    return s1, s2\n",
    "\n",
    "# Check Signature\n",
    "def check_signature(alpha, p, v, d, s1, s2):\n",
    "    u1 = (pow(v, s1, p) * pow(s1, s2, p)) % p\n",
    "    u2 = pow(alpha, d, p)\n",
    "    return u1 == u2"
   ]
  },
  {
   "cell_type": "code",
   "execution_count": 10,
   "id": "70d56d31",
   "metadata": {},
   "outputs": [
    {
     "name": "stdout",
     "output_type": "stream",
     "text": [
      "Public keys: 1097, 299\n",
      "Encrypted message: 1433, 308\n",
      "Decrypted message: 123\n"
     ]
    }
   ],
   "source": [
    "p, alpha, xa, xb = 1543, 5, 137, 201\n",
    "beta_a = find_public_key(alpha, xa, p)\n",
    "beta_b = find_public_key(alpha, xb, p)\n",
    "\n",
    "print(f\"Public keys: {beta_a}, {beta_b}\")\n",
    "\n",
    "message = 123\n",
    "\n",
    "c1, c2 = encrypt_message(alpha, 11, message, p, beta_a)\n",
    "print(f\"Encrypted message: {c1}, {c2}\")\n",
    "\n",
    "decrypted_message = decrypt_message(c1, c2, p, xa)\n",
    "print(f\"Decrypted message: {decrypted_message}\")"
   ]
  },
  {
   "cell_type": "code",
   "execution_count": 12,
   "id": "0d871a9c",
   "metadata": {},
   "outputs": [
    {
     "name": "stdout",
     "output_type": "stream",
     "text": [
      "Boris signature: 48, 492\n",
      "Discrete log result: -1\n",
      "True\n",
      "False\n"
     ]
    }
   ],
   "source": [
    "# Signature example\n",
    "m = 1312\n",
    "e = 13\n",
    "s1, s2 = boris_signature(alpha, e, p, xb)\n",
    "print(f\"Boris signature: {s1}, {s2}\")\n",
    "\n",
    "# Shanks algorithm exam ple\n",
    "p, alpha = 29, 2\n",
    "beta_a = 21\n",
    "xa = discrete_log(beta_a, alpha, p)\n",
    "print(f\"Discrete log result: {xa}\")\n",
    "\n",
    "# Check signature example\n",
    "p, alpha = 509, 2\n",
    "v = 360\n",
    "print(check_signature(alpha, p, v, 101, 60, 433))\n",
    "print(check_signature(alpha, p, v, 208, 422, 409))"
   ]
  }
 ],
 "metadata": {
  "kernelspec": {
   "display_name": "Python 3 (ipykernel)",
   "language": "python",
   "name": "python3"
  },
  "language_info": {
   "codemirror_mode": {
    "name": "ipython",
    "version": 3
   },
   "file_extension": ".py",
   "mimetype": "text/x-python",
   "name": "python",
   "nbconvert_exporter": "python",
   "pygments_lexer": "ipython3",
   "version": "3.9.13"
  }
 },
 "nbformat": 4,
 "nbformat_minor": 5
}
