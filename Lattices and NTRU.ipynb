{
 "cells": [
  {
   "cell_type": "code",
   "execution_count": 166,
   "id": "902c6783",
   "metadata": {},
   "outputs": [],
   "source": [
    "import random"
   ]
  },
  {
   "cell_type": "code",
   "execution_count": 109,
   "id": "cc330276",
   "metadata": {},
   "outputs": [],
   "source": [
    "import numpy as np"
   ]
  },
  {
   "cell_type": "markdown",
   "id": "2b496793",
   "metadata": {},
   "source": [
    "# Lattices"
   ]
  },
  {
   "cell_type": "code",
   "execution_count": 110,
   "id": "973df2dc",
   "metadata": {},
   "outputs": [],
   "source": [
    "def sample_error(n):\n",
    "    return np.random.randint(-2, 3, n)  # \"small\" error vector\n",
    "\n",
    "def generate_key(n, q):\n",
    "    return np.random.randint(0, q, n)\n",
    "\n",
    "def encrypt(m, A, s, q):\n",
    "    n = len(s)\n",
    "    e = sample_error(n)\n",
    "    return (np.dot(A, s) + m + e) % q\n",
    "\n",
    "def decrypt(c, A, s, q):\n",
    "    n = len(s)\n",
    "    approx = (c - np.dot(A, s)) % q\n",
    "    # The decryption step should remove the error and recover the message\n",
    "    # By rounding to the nearest multiple of (q // 2)\n",
    "    return (np.round(approx / (q / 2)) % 2 * (q // 2)).astype(int)"
   ]
  },
  {
   "cell_type": "code",
   "execution_count": 111,
   "id": "e793927b",
   "metadata": {},
   "outputs": [],
   "source": [
    "n = 30  # Dimension\n",
    "q = 101  # Modulus"
   ]
  },
  {
   "cell_type": "code",
   "execution_count": 112,
   "id": "4f3b22a4",
   "metadata": {},
   "outputs": [
    {
     "data": {
      "text/plain": [
       "array([66, 91, 90, 75, 60, 22, 63, 90, 31, 75, 73,  4, 89, 94, 88, 72,  2,\n",
       "       33, 17, 60, 84, 77, 53, 92, 75, 70, 14,  3,  5, 67])"
      ]
     },
     "execution_count": 112,
     "metadata": {},
     "output_type": "execute_result"
    }
   ],
   "source": [
    "s = generate_key(n, q)\n",
    "s"
   ]
  },
  {
   "cell_type": "code",
   "execution_count": 113,
   "id": "eb2de2e5",
   "metadata": {},
   "outputs": [
    {
     "data": {
      "text/plain": [
       "array([63, 95, 88, 15, 73, 47, 86,  1, 90, 56, 21, 50, 69, 15, 54, 81, 59,\n",
       "       13, 54, 30, 57, 29, 78, 67, 22, 88, 89, 12, 98, 91])"
      ]
     },
     "execution_count": 113,
     "metadata": {},
     "output_type": "execute_result"
    }
   ],
   "source": [
    "# Generate a public key A (this is usually more complex in practice)\n",
    "A = np.random.randint(0, q, n)\n",
    "A"
   ]
  },
  {
   "cell_type": "code",
   "execution_count": 114,
   "id": "7acf0dc5",
   "metadata": {},
   "outputs": [
    {
     "data": {
      "text/plain": [
       "array([50,  0,  0, 50,  0,  0,  0, 50, 50,  0,  0,  0,  0, 50, 50, 50, 50,\n",
       "        0, 50,  0, 50,  0,  0, 50,  0, 50, 50, 50, 50, 50])"
      ]
     },
     "execution_count": 114,
     "metadata": {},
     "output_type": "execute_result"
    }
   ],
   "source": [
    "# Generate a random binary message and multiply by (q // 2)\n",
    "m = np.random.randint(0, 2, n) * (q // 2)\n",
    "m"
   ]
  },
  {
   "cell_type": "code",
   "execution_count": 115,
   "id": "9df8a58b",
   "metadata": {},
   "outputs": [],
   "source": [
    "# this multiplication by q // 2\n",
    "# \"lifts\" these bits into the modular arithmetic space defined by q and helps as to deal with this \"noise\"\n",
    "\n",
    "# generally, in real worl; algorithm we should use some more advanced technique than just \"mapping\" these bits\n",
    "# it looks rudimental but for educational purposes - it works"
   ]
  },
  {
   "cell_type": "code",
   "execution_count": 116,
   "id": "277db469",
   "metadata": {},
   "outputs": [],
   "source": [
    "# Encrypt the message\n",
    "ciphertext = encrypt(m, A, s, q)"
   ]
  },
  {
   "cell_type": "code",
   "execution_count": 117,
   "id": "494affb2",
   "metadata": {},
   "outputs": [],
   "source": [
    "# Decrypt the message\n",
    "decrypted = decrypt(ciphertext, A, s, q)"
   ]
  },
  {
   "cell_type": "code",
   "execution_count": 118,
   "id": "d19ed243",
   "metadata": {},
   "outputs": [
    {
     "name": "stdout",
     "output_type": "stream",
     "text": [
      "Original message: [50  0  0 50  0  0  0 50 50  0  0  0  0 50 50 50 50  0 50  0 50  0  0 50\n",
      "  0 50 50 50 50 50]\n",
      "Decrypted message: [50  0  0 50  0  0  0 50 50  0  0  0  0 50 50 50 50  0 50  0 50  0  0 50\n",
      "  0 50 50 50 50 50]\n"
     ]
    }
   ],
   "source": [
    "# Output the original and decrypted messages\n",
    "print(\"Original message:\", m)\n",
    "print(\"Decrypted message:\", decrypted)"
   ]
  },
  {
   "cell_type": "code",
   "execution_count": 119,
   "id": "8072bdc8",
   "metadata": {},
   "outputs": [
    {
     "name": "stdout",
     "output_type": "stream",
     "text": [
      "Original bits: [1 0 0 1 0 0 0 1 1 0 0 0 0 1 1 1 1 0 1 0 1 0 0 1 0 1 1 1 1 1]\n",
      "Decrypted bits: [1 0 0 1 0 0 0 1 1 0 0 0 0 1 1 1 1 0 1 0 1 0 0 1 0 1 1 1 1 1]\n"
     ]
    }
   ],
   "source": [
    "# Convert back to bit representation for comparison\n",
    "original_bits = m // (q // 2)\n",
    "decrypted_bits = decrypted // (q // 2)\n",
    "print(\"Original bits:\", original_bits)\n",
    "print(\"Decrypted bits:\", decrypted_bits)"
   ]
  },
  {
   "cell_type": "markdown",
   "id": "6c9013c7",
   "metadata": {},
   "source": [
    "# NTRU"
   ]
  },
  {
   "cell_type": "code",
   "execution_count": 216,
   "id": "01c9fa4d",
   "metadata": {},
   "outputs": [],
   "source": [
    "from sympy.abc import x\n",
    "from sympy import ZZ, Poly\n",
    "import numpy as np\n",
    "from sympy.polys.polyerrors import NotInvertible"
   ]
  },
  {
   "cell_type": "code",
   "execution_count": 239,
   "id": "03dd9961",
   "metadata": {},
   "outputs": [],
   "source": [
    "N = 512\n",
    "p = 2\n",
    "q = 128"
   ]
  },
  {
   "cell_type": "code",
   "execution_count": 240,
   "id": "91cc05d8",
   "metadata": {},
   "outputs": [],
   "source": [
    "def random_poly(length, d, neg_ones_diff=0):\n",
    "    return Poly(np.random.permutation(\n",
    "        np.concatenate((np.zeros(length - 2 * d - neg_ones_diff), np.ones(d), -np.ones(d + neg_ones_diff)))), x).set_domain(ZZ)\n",
    "\n",
    "def invert_poly(f_poly, R_poly, p):\n",
    "    inv_poly = None\n",
    "    if (p & (p - 1) == 0):  # Check for power of 2\n",
    "        inv_poly = invert(f_poly, R_poly, domain=GF(2))\n",
    "        e = int(np.log2(p))\n",
    "        for _ in range(1, e):\n",
    "            inv_poly = ((2 * inv_poly - f_poly * inv_poly ** 2) % R_poly).trunc(p)\n",
    "    else:\n",
    "        raise Exception(\"Cannot invert polynomial in Z_{}\".format(p))\n",
    "    return inv_poly"
   ]
  },
  {
   "cell_type": "code",
   "execution_count": 241,
   "id": "96a927f6",
   "metadata": {},
   "outputs": [],
   "source": [
    "def encrypt(msg_poly, rand_poly, h_poly, q, R_poly):\n",
    "    return (((rand_poly * h_poly).trunc(q) + msg_poly) % R_poly).trunc(q)\n",
    "\n",
    "def decrypt(msg_poly, f_poly, f_p_poly, q, p, R_poly):\n",
    "    a_poly = ((f_poly * msg_poly) % R_poly).trunc(q)\n",
    "    b_poly = a_poly.trunc(p)\n",
    "    return ((f_p_poly * b_poly) % R_poly).trunc(p)"
   ]
  },
  {
   "cell_type": "code",
   "execution_count": 242,
   "id": "3d981c8e",
   "metadata": {},
   "outputs": [],
   "source": [
    "R_poly = Poly(x ** N - 1, x).set_domain(ZZ)\n",
    "\n",
    "# Key generation\n",
    "g_poly = random_poly(N, int(np.sqrt(q)))\n",
    "tries = 10\n",
    "h_poly = None\n",
    "while tries > 0 and (h_poly is None):\n",
    "    f_poly = random_poly(N, N // 3, neg_ones_diff=-1)\n",
    "    try:\n",
    "        f_p_poly = invert_poly(f_poly, R_poly, p)\n",
    "        f_q_poly = invert_poly(f_poly, R_poly, q)\n",
    "        p_f_q_poly = (p * f_q_poly).trunc(q)\n",
    "        h_before_mod = (p_f_q_poly * g_poly).trunc(q)\n",
    "        h_poly = (h_before_mod % R_poly).trunc(q)\n",
    "    except NotInvertible:\n",
    "        tries -= 1\n",
    "\n",
    "if h_poly is None:\n",
    "    raise Exception(\"Couldn't generate invertible f\")"
   ]
  },
  {
   "cell_type": "code",
   "execution_count": 243,
   "id": "14081ca6",
   "metadata": {},
   "outputs": [
    {
     "name": "stdout",
     "output_type": "stream",
     "text": [
      "Original message polynomial: Poly(-x**4 + 1, x, domain='ZZ')\n"
     ]
    }
   ],
   "source": [
    "msg_poly = random_poly(5, 1)  # for example purposes, low degree\n",
    "print(f\"Original message polynomial: {msg_poly}\")"
   ]
  },
  {
   "cell_type": "code",
   "execution_count": 244,
   "id": "40f881be",
   "metadata": {},
   "outputs": [
    {
     "name": "stdout",
     "output_type": "stream",
     "text": [
      "Randomizing polynomial: Poly(-x**509 + x**508 - x**507 + x**506 + x**502 + x**501 - x**500 + x**494 - x**493 + x**492 - x**487 - x**480 - x**476 - x**475 + x**474 + x**473 - x**472 - x**471 + x**468 - x**467 + x**464 - x**462 + x**460 + x**459 - x**451 + x**450 - x**447 - x**445 + x**439 - x**437 - x**436 - x**435 + x**426 - x**425 + x**424 + x**423 + x**418 - x**416 - x**415 - x**411 - x**410 + x**407 + x**404 + x**402 - x**401 + x**399 - x**397 + x**395 - x**391 - x**389 - x**388 - x**384 + x**383 - x**380 - x**379 - x**377 - x**376 + x**374 - x**373 + x**370 - x**363 - x**362 + x**361 + x**360 - x**358 + x**354 - x**352 + x**351 + x**350 + x**347 + x**345 + x**342 - x**339 + x**337 + x**336 - x**330 + x**326 - x**318 + x**317 + x**316 + x**315 + x**314 + x**307 + x**304 + x**303 + x**299 - x**297 - x**296 - x**294 + x**284 - x**282 - x**281 - x**280 + x**277 + x**276 + x**274 + x**271 + x**269 - x**268 - x**252 + x**251 + x**250 + x**249 - x**245 - x**243 + x**238 - x**237 + x**235 + x**233 - x**231 + x**230 + x**229 - x**228 + x**227 - x**226 + x**218 + x**217 - x**216 - x**215 - x**205 - x**202 - x**198 + x**196 - x**195 - x**192 - x**189 - x**187 + x**186 - x**184 + x**181 + x**180 - x**179 + x**178 - x**175 - x**172 + x**167 - x**166 + x**163 + x**162 + x**158 + x**153 - x**147 - x**145 - x**143 - x**141 - x**140 - x**139 - x**137 - x**136 + x**132 + x**130 + x**127 + x**126 + x**124 - x**122 - x**121 + x**120 - x**118 + x**114 + x**110 - x**109 - x**108 - x**106 + x**103 + x**102 - x**101 + x**99 + x**93 - x**91 - x**90 + x**85 + x**81 + x**77 + x**76 + x**74 - x**67 + x**66 + x**64 + x**62 + x**59 + x**58 - x**57 + x**56 + x**54 - x**49 + x**48 - x**40 - x**38 - x**37 - x**35 + x**34 + x**31 - x**29 - x**21 + x**17 - x**15 - x**14 + x**13 + x**12 - x**9 - x**6 - x**3 - x**2 - x, x, domain='ZZ')\n"
     ]
    }
   ],
   "source": [
    "rand_poly = random_poly(N, N // 5)  # again, for example purposes\n",
    "print(f\"Randomizing polynomial: {rand_poly}\")"
   ]
  },
  {
   "cell_type": "code",
   "execution_count": 245,
   "id": "adf0dedf",
   "metadata": {},
   "outputs": [
    {
     "name": "stdout",
     "output_type": "stream",
     "text": [
      "Encrypted message: Poly(6*x**511 - 46*x**510 + 64*x**509 + 4*x**508 + 22*x**507 + 16*x**506 - 34*x**505 - 14*x**504 + 16*x**503 + 40*x**502 + 8*x**501 + 46*x**500 + 36*x**499 - 36*x**498 + 16*x**497 - 24*x**496 - 62*x**495 - 56*x**494 + 14*x**493 + 26*x**492 - 10*x**491 - 42*x**490 - 42*x**489 - 18*x**488 - 34*x**487 - 10*x**486 + 14*x**485 + 28*x**484 + 22*x**483 + 64*x**482 + 2*x**481 + 38*x**480 + 4*x**479 - 42*x**478 + 6*x**477 - 52*x**476 - 36*x**475 - 8*x**474 - 50*x**473 - 14*x**472 - 2*x**471 - 28*x**470 + 62*x**469 + 18*x**468 + 48*x**467 + 24*x**466 + 60*x**465 + 62*x**464 - 50*x**463 + 16*x**462 - 4*x**461 - 22*x**460 + 10*x**459 - 28*x**458 - 8*x**457 + 52*x**456 + 6*x**455 + 18*x**454 + 54*x**453 - 34*x**452 + 46*x**451 - 14*x**450 - 36*x**449 - 28*x**448 - 22*x**447 + 62*x**446 + 18*x**445 + 14*x**444 - 48*x**443 + 44*x**442 + 8*x**441 + 54*x**440 - 20*x**439 - 34*x**438 + 4*x**437 - 28*x**436 + 60*x**435 + 64*x**434 + 22*x**433 - 18*x**432 - 40*x**431 - 26*x**430 - 20*x**429 + 46*x**428 - 56*x**427 + 18*x**426 + 6*x**425 - 54*x**424 - 8*x**423 - 58*x**422 + 8*x**421 - 10*x**420 - 4*x**419 + 24*x**418 - 40*x**417 + 58*x**416 - 4*x**415 - 22*x**414 + 38*x**413 + 50*x**412 - 6*x**411 - 46*x**410 - 14*x**409 + 2*x**408 - 34*x**407 - 30*x**406 + 36*x**405 + 38*x**404 + 42*x**403 - 22*x**402 + 54*x**401 - 40*x**400 + 38*x**399 - 44*x**398 + 46*x**397 + 10*x**396 + 20*x**395 - 46*x**394 + 50*x**393 - 28*x**392 + 54*x**391 - 14*x**390 - 34*x**389 + 24*x**388 - 8*x**387 + 10*x**386 - 26*x**385 + 42*x**384 - 56*x**383 + 34*x**382 + 28*x**381 + 8*x**380 - 24*x**379 - 30*x**378 - 24*x**377 - 20*x**376 - 36*x**375 + 8*x**374 - 60*x**373 + 60*x**372 - 42*x**371 - 12*x**370 + 20*x**369 - 38*x**368 - 18*x**367 - 18*x**366 - 46*x**365 + 44*x**364 - 36*x**363 + 48*x**362 + 52*x**361 + 28*x**360 + 24*x**359 + 2*x**358 + 2*x**357 - 6*x**356 + 6*x**355 - 48*x**354 + 42*x**353 + 40*x**352 + 16*x**351 + 16*x**350 + 52*x**349 + 2*x**348 - 48*x**347 - 28*x**346 - 18*x**345 - 22*x**344 + 58*x**343 + 36*x**342 + 18*x**341 - 42*x**340 - 50*x**339 + 54*x**338 + 60*x**337 - 8*x**336 - 4*x**335 + 46*x**334 + 6*x**333 + 48*x**332 - 42*x**331 + 64*x**330 - 54*x**329 - 52*x**328 - 58*x**327 - 32*x**326 - 44*x**325 - 58*x**324 - 30*x**323 - 24*x**322 - 60*x**321 + 56*x**320 - 28*x**319 + 52*x**318 - 42*x**317 - 22*x**316 + 14*x**315 - 58*x**313 - 48*x**312 - 26*x**311 - 48*x**310 + 44*x**309 + 44*x**308 + 40*x**307 + 22*x**306 + 28*x**305 + 40*x**304 - 48*x**303 + 64*x**301 + 62*x**300 + 6*x**299 + 20*x**298 - 28*x**297 + 16*x**296 + 58*x**295 + 42*x**294 - 24*x**293 + 20*x**292 + 34*x**291 - 20*x**290 - 36*x**289 - 6*x**288 - 50*x**287 - 14*x**286 - 20*x**285 + 64*x**284 - 10*x**283 - 20*x**282 + 52*x**281 + 36*x**280 + 44*x**279 + 36*x**278 + 14*x**277 + 60*x**276 + 62*x**275 + 46*x**274 - 12*x**273 - 12*x**272 + 18*x**271 + 56*x**270 + 2*x**269 + 20*x**268 + 38*x**267 + 30*x**266 - 6*x**265 + 28*x**264 - 20*x**263 + 2*x**261 - 20*x**260 - 48*x**259 + 20*x**258 - 26*x**257 + 38*x**256 + 4*x**255 - 6*x**254 + 16*x**253 + 34*x**252 + 18*x**251 - 14*x**250 + 4*x**249 + 36*x**248 + 64*x**247 - 16*x**246 + 60*x**245 - 20*x**244 + 52*x**243 + 24*x**242 + 2*x**241 + 22*x**240 + 60*x**239 + 38*x**238 - 46*x**237 - 20*x**236 - 42*x**235 + 18*x**234 - 52*x**233 - 12*x**232 - 18*x**231 + 42*x**230 + 30*x**229 - 50*x**228 - 38*x**227 - 40*x**226 - 18*x**225 + 6*x**224 - 14*x**223 - 62*x**222 - 42*x**221 - 36*x**220 + 18*x**219 - 34*x**218 + 26*x**217 - 44*x**216 + 50*x**215 + 20*x**214 - 2*x**213 + 44*x**212 - 42*x**211 + 40*x**210 - 10*x**209 + 56*x**208 - 20*x**207 - 28*x**206 + 62*x**205 - 42*x**204 - 10*x**203 - 54*x**202 + 6*x**201 - 46*x**200 - 10*x**199 + 42*x**198 - 54*x**197 - 50*x**196 + 62*x**195 + 38*x**194 + 42*x**193 - 34*x**192 + 62*x**191 - 34*x**190 + 64*x**188 + 2*x**187 + 2*x**186 + 46*x**185 + 54*x**184 + 54*x**183 + 44*x**182 + 24*x**181 + 62*x**180 + 40*x**179 + 6*x**178 - 10*x**177 - 32*x**176 + 38*x**175 + 44*x**174 - 36*x**173 + 14*x**172 + 10*x**171 - 28*x**170 - 62*x**169 + 28*x**168 - 8*x**167 - 50*x**166 + 12*x**165 + 52*x**164 - 26*x**163 - 52*x**162 - 12*x**161 + 58*x**160 + 50*x**159 + 18*x**157 - 40*x**156 + 4*x**155 + 52*x**154 - 48*x**153 - 36*x**152 - 32*x**151 - 34*x**150 + 42*x**149 + 4*x**148 + 10*x**147 + 34*x**146 + 8*x**145 + 28*x**144 - 18*x**143 - 4*x**142 + 22*x**141 - 2*x**140 + 44*x**139 + 58*x**138 - 4*x**137 + 28*x**136 + 12*x**135 + 30*x**134 + 4*x**133 - 18*x**132 - 48*x**131 + 24*x**130 + 50*x**129 + 30*x**128 - 48*x**127 - 26*x**126 - 26*x**125 - 56*x**124 - 20*x**123 + 40*x**122 - 4*x**121 - 14*x**120 - 28*x**119 + 22*x**118 + 64*x**117 + 42*x**116 - 42*x**115 + 18*x**114 - 40*x**113 - 38*x**112 - 40*x**111 - 44*x**110 - 30*x**109 + 36*x**108 - 18*x**107 + 24*x**106 + 16*x**105 + 54*x**104 - 26*x**103 + 38*x**102 - 8*x**101 - 22*x**100 + 42*x**99 + 28*x**98 - 44*x**97 + 10*x**96 + 44*x**95 - 32*x**94 - 8*x**93 - 46*x**92 + 52*x**91 + 48*x**90 + 20*x**89 + 8*x**88 + 24*x**87 + 50*x**86 - 6*x**85 - 28*x**84 - 60*x**83 - 48*x**82 + 54*x**81 - 50*x**80 + 14*x**79 - 30*x**78 + 4*x**77 + 38*x**76 + 44*x**75 + 62*x**74 + 4*x**73 - 56*x**72 - 18*x**71 - 18*x**70 + 16*x**69 + 10*x**68 + 34*x**67 - 40*x**66 + 62*x**65 - 38*x**64 - 10*x**63 + 64*x**62 + 62*x**61 - 26*x**59 + 58*x**58 - 48*x**56 + 4*x**55 - 54*x**54 + 58*x**53 - 12*x**52 + 30*x**51 + 64*x**49 - 52*x**48 - 52*x**47 + 12*x**46 + 36*x**45 + 8*x**44 + 12*x**43 - 38*x**42 - 50*x**41 - 8*x**40 + 42*x**39 - 20*x**38 + 44*x**37 - 54*x**36 + 62*x**35 - 16*x**34 + 54*x**33 + 44*x**32 + 22*x**31 - 36*x**30 - 6*x**29 - 54*x**28 + 12*x**27 + 20*x**26 + 32*x**25 + 58*x**24 - 34*x**23 + 42*x**22 - 34*x**21 + 2*x**20 + 24*x**19 + 64*x**18 + 34*x**17 - 54*x**16 - 10*x**15 - 52*x**14 - 16*x**13 + 32*x**12 + 18*x**11 + 10*x**10 - 28*x**9 + 44*x**8 + 50*x**7 + 12*x**6 - 30*x**5 - 47*x**4 + 4*x**3 + 56*x**2 + 18*x - 59, x, domain='ZZ')\n"
     ]
    }
   ],
   "source": [
    "encrypted_poly = encrypt(msg_poly, rand_poly, h_poly, q, R_poly)\n",
    "print(f\"Encrypted message: {encrypted_poly}\")"
   ]
  },
  {
   "cell_type": "code",
   "execution_count": 246,
   "id": "39d2b42c",
   "metadata": {},
   "outputs": [
    {
     "name": "stdout",
     "output_type": "stream",
     "text": [
      "Decrypted message: Poly(x**4 + 1, x, domain='ZZ')\n"
     ]
    }
   ],
   "source": [
    "decrypted_poly = decrypt(encrypted_poly, f_poly, f_p_poly, q, p, R_poly)\n",
    "print(f\"Decrypted message: {decrypted_poly}\")"
   ]
  },
  {
   "cell_type": "code",
   "execution_count": 247,
   "id": "f1e60a4c",
   "metadata": {},
   "outputs": [
    {
     "name": "stdout",
     "output_type": "stream",
     "text": [
      "Decryption failed, something went wrong!\n"
     ]
    }
   ],
   "source": [
    "if decrypted_poly == msg_poly:\n",
    "    print(\"Decryption successful, message retrieved!\")\n",
    "else:\n",
    "    print(\"Decryption failed, something went wrong!\")"
   ]
  },
  {
   "cell_type": "code",
   "execution_count": 248,
   "id": "16f330a7",
   "metadata": {},
   "outputs": [],
   "source": [
    "# ToDo:\n",
    "# Encrypted/Decrypted always different by 1 sign, like x - 1 "
   ]
  },
  {
   "cell_type": "code",
   "execution_count": null,
   "id": "e81e6940",
   "metadata": {},
   "outputs": [],
   "source": []
  }
 ],
 "metadata": {
  "kernelspec": {
   "display_name": "Python 3 (ipykernel)",
   "language": "python",
   "name": "python3"
  },
  "language_info": {
   "codemirror_mode": {
    "name": "ipython",
    "version": 3
   },
   "file_extension": ".py",
   "mimetype": "text/x-python",
   "name": "python",
   "nbconvert_exporter": "python",
   "pygments_lexer": "ipython3",
   "version": "3.9.13"
  }
 },
 "nbformat": 4,
 "nbformat_minor": 5
}
