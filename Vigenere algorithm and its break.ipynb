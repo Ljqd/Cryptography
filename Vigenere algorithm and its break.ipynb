{
 "cells": [
  {
   "cell_type": "markdown",
   "metadata": {},
   "source": [
    "# Vigenere algorithm"
   ]
  },
  {
   "cell_type": "markdown",
   "metadata": {},
   "source": [
    "- Creating a histogram of the frequency of letters in the text.\n",
    "\n",
    "- Implementation of the Wigener encryption algorithm.\n",
    "\n",
    "- Conducting a cryptanalysis of the Vigenère cipher and decrypt ciphertext."
   ]
  },
  {
   "cell_type": "markdown",
   "metadata": {},
   "source": [
    "## 1. Preparation"
   ]
  },
  {
   "cell_type": "code",
   "execution_count": 1,
   "metadata": {},
   "outputs": [],
   "source": [
    "ALPHABET = \"абвгґдеєжзиіїйклмнопрстуфхцчшщьюя\""
   ]
  },
  {
   "cell_type": "code",
   "execution_count": 2,
   "metadata": {},
   "outputs": [],
   "source": [
    "def get_vigenere_table(alphabet, ROT=0):\n",
    "    table = []\n",
    "    for i in range(len(alphabet)):\n",
    "        row = []\n",
    "        for j in range(len(alphabet)):\n",
    "            row.append(alphabet[(i + j + ROT) % len(alphabet)])\n",
    "        table.append(row)\n",
    "    return table"
   ]
  },
  {
   "cell_type": "code",
   "execution_count": 3,
   "metadata": {},
   "outputs": [],
   "source": [
    "table = get_vigenere_table(ALPHABET)"
   ]
  },
  {
   "cell_type": "code",
   "execution_count": 4,
   "metadata": {},
   "outputs": [
    {
     "name": "stdout",
     "output_type": "stream",
     "text": [
      "а б в г ґ д е є ж з и і ї й к л м н о п р с т у ф х ц ч ш щ ь ю я\n",
      "б в г ґ д е є ж з и і ї й к л м н о п р с т у ф х ц ч ш щ ь ю я а\n",
      "в г ґ д е є ж з и і ї й к л м н о п р с т у ф х ц ч ш щ ь ю я а б\n",
      "г ґ д е є ж з и і ї й к л м н о п р с т у ф х ц ч ш щ ь ю я а б в\n",
      "ґ д е є ж з и і ї й к л м н о п р с т у ф х ц ч ш щ ь ю я а б в г\n",
      "д е є ж з и і ї й к л м н о п р с т у ф х ц ч ш щ ь ю я а б в г ґ\n",
      "е є ж з и і ї й к л м н о п р с т у ф х ц ч ш щ ь ю я а б в г ґ д\n",
      "є ж з и і ї й к л м н о п р с т у ф х ц ч ш щ ь ю я а б в г ґ д е\n",
      "ж з и і ї й к л м н о п р с т у ф х ц ч ш щ ь ю я а б в г ґ д е є\n",
      "з и і ї й к л м н о п р с т у ф х ц ч ш щ ь ю я а б в г ґ д е є ж\n",
      "и і ї й к л м н о п р с т у ф х ц ч ш щ ь ю я а б в г ґ д е є ж з\n",
      "і ї й к л м н о п р с т у ф х ц ч ш щ ь ю я а б в г ґ д е є ж з и\n",
      "ї й к л м н о п р с т у ф х ц ч ш щ ь ю я а б в г ґ д е є ж з и і\n",
      "й к л м н о п р с т у ф х ц ч ш щ ь ю я а б в г ґ д е є ж з и і ї\n",
      "к л м н о п р с т у ф х ц ч ш щ ь ю я а б в г ґ д е є ж з и і ї й\n",
      "л м н о п р с т у ф х ц ч ш щ ь ю я а б в г ґ д е є ж з и і ї й к\n",
      "м н о п р с т у ф х ц ч ш щ ь ю я а б в г ґ д е є ж з и і ї й к л\n",
      "н о п р с т у ф х ц ч ш щ ь ю я а б в г ґ д е є ж з и і ї й к л м\n",
      "о п р с т у ф х ц ч ш щ ь ю я а б в г ґ д е є ж з и і ї й к л м н\n",
      "п р с т у ф х ц ч ш щ ь ю я а б в г ґ д е є ж з и і ї й к л м н о\n",
      "р с т у ф х ц ч ш щ ь ю я а б в г ґ д е є ж з и і ї й к л м н о п\n",
      "с т у ф х ц ч ш щ ь ю я а б в г ґ д е є ж з и і ї й к л м н о п р\n",
      "т у ф х ц ч ш щ ь ю я а б в г ґ д е є ж з и і ї й к л м н о п р с\n",
      "у ф х ц ч ш щ ь ю я а б в г ґ д е є ж з и і ї й к л м н о п р с т\n",
      "ф х ц ч ш щ ь ю я а б в г ґ д е є ж з и і ї й к л м н о п р с т у\n",
      "х ц ч ш щ ь ю я а б в г ґ д е є ж з и і ї й к л м н о п р с т у ф\n",
      "ц ч ш щ ь ю я а б в г ґ д е є ж з и і ї й к л м н о п р с т у ф х\n",
      "ч ш щ ь ю я а б в г ґ д е є ж з и і ї й к л м н о п р с т у ф х ц\n",
      "ш щ ь ю я а б в г ґ д е є ж з и і ї й к л м н о п р с т у ф х ц ч\n",
      "щ ь ю я а б в г ґ д е є ж з и і ї й к л м н о п р с т у ф х ц ч ш\n",
      "ь ю я а б в г ґ д е є ж з и і ї й к л м н о п р с т у ф х ц ч ш щ\n",
      "ю я а б в г ґ д е є ж з и і ї й к л м н о п р с т у ф х ц ч ш щ ь\n",
      "я а б в г ґ д е є ж з и і ї й к л м н о п р с т у ф х ц ч ш щ ь ю\n"
     ]
    }
   ],
   "source": [
    "for row in table:\n",
    "    print(' '.join(row))"
   ]
  },
  {
   "cell_type": "code",
   "execution_count": 5,
   "metadata": {},
   "outputs": [],
   "source": [
    "# prepare an index dictionary\n",
    "def get_alphabet_dictionary(alphabet):\n",
    "    return dict(zip(list(alphabet), range(len(alphabet))))"
   ]
  },
  {
   "cell_type": "code",
   "execution_count": 6,
   "metadata": {},
   "outputs": [],
   "source": [
    "dictionary = get_alphabet_dictionary(ALPHABET)"
   ]
  },
  {
   "cell_type": "code",
   "execution_count": 7,
   "metadata": {},
   "outputs": [
    {
     "name": "stdout",
     "output_type": "stream",
     "text": [
      "а - 0,\tб - 1,\tв - 2,\tг - 3,\tґ - 4,\tд - 5,\tе - 6,\tє - 7,\tж - 8,\tз - 9,\tи - 10.\n",
      "і - 11,\tї - 12,\tй - 13,\tк - 14,\tл - 15,\tм - 16,\tн - 17,\tо - 18,\tп - 19,\tр - 20,\tс - 21.\n",
      "т - 22,\tу - 23,\tф - 24,\tх - 25,\tц - 26,\tч - 27,\tш - 28,\tщ - 29,\tь - 30,\tю - 31,\tя - 32.\n"
     ]
    }
   ],
   "source": [
    "for i, char in enumerate(ALPHABET):\n",
    "    if not ((i + 1) % 11):\n",
    "        print(\"{} - {}.\\n\".format(char, dictionary[char]), end='')\n",
    "    else:\n",
    "        print(\"{} - {},\\t\".format(char, dictionary[char]), end='')"
   ]
  },
  {
   "cell_type": "markdown",
   "metadata": {},
   "source": [
    "**Obviously, both table and dictionary not much needed and we can easily work without them, but that way, in my opinion, it looks more clearly**"
   ]
  },
  {
   "cell_type": "markdown",
   "metadata": {},
   "source": [
    "## 2. Frequencies histogram"
   ]
  },
  {
   "cell_type": "code",
   "execution_count": 8,
   "metadata": {},
   "outputs": [],
   "source": [
    "filename = \"encrypted2.txt\"\n",
    "with open(filename, 'r') as file:\n",
    "    data = file.readline()"
   ]
  },
  {
   "cell_type": "code",
   "execution_count": null,
   "metadata": {},
   "outputs": [],
   "source": []
  },
  {
   "cell_type": "code",
   "execution_count": 9,
   "metadata": {},
   "outputs": [],
   "source": [
    "import matplotlib.pyplot as plt\n",
    "import numpy as np"
   ]
  },
  {
   "cell_type": "code",
   "execution_count": 10,
   "metadata": {},
   "outputs": [],
   "source": [
    "histogram = np.unique(list(data), return_counts=True)\n",
    "\n",
    "letters = histogram[0]\n",
    "freq = histogram[1] / sum(histogram[1])"
   ]
  },
  {
   "cell_type": "code",
   "execution_count": 11,
   "metadata": {},
   "outputs": [
    {
     "data": {
      "image/png": "[encoded data removed]",
      "text/plain": [
       "<Figure size 720x360 with 1 Axes>"
      ]
     },
     "metadata": {},
     "output_type": "display_data"
    }
   ],
   "source": [
    "fig, axis = plt.subplots(1, 1, figsize=(10, 5))\n",
    "\n",
    "axis.bar(np.arange(len(freq)), freq, tick_label=letters)\n",
    "axis.grid()"
   ]
  },
  {
   "cell_type": "markdown",
   "metadata": {},
   "source": [
    "## 3. Vigenere cipher, encryption with key"
   ]
  },
  {
   "cell_type": "code",
   "execution_count": 12,
   "metadata": {},
   "outputs": [],
   "source": [
    "from string import ascii_lowercase"
   ]
  },
  {
   "cell_type": "code",
   "execution_count": 13,
   "metadata": {},
   "outputs": [],
   "source": [
    "def encryption(plaintext, keyword, alphabet = ascii_lowercase, ROT=0):\n",
    "    plaintext = plaintext.lower()\n",
    "    \n",
    "    table = get_vigenere_table(alphabet, ROT)\n",
    "    dictionary = get_alphabet_dictionary(alphabet)\n",
    "    \n",
    "    ciphertext = []\n",
    "    counter = 0\n",
    "    for i in range(len(plaintext)):\n",
    "        pChar = plaintext[i]\n",
    "        kChar = keyword[counter % len(keyword)]\n",
    "        \n",
    "        if not pChar.isalpha():\n",
    "            #ciphertext.append(pChar)\n",
    "            continue\n",
    "        else:\n",
    "            counter += 1\n",
    "        \n",
    "        rowIndex = dictionary[pChar]\n",
    "        colIndex = dictionary[kChar]\n",
    "        \n",
    "        ciphertext.append(table[rowIndex][colIndex])\n",
    "    return ''.join(ciphertext)"
   ]
  },
  {
   "cell_type": "code",
   "execution_count": 14,
   "metadata": {},
   "outputs": [
    {
     "data": {
      "text/plain": [
       "'opkuhmtowzuaajfbecstfsmimtgdlhfkn'"
      ]
     },
     "execution_count": 14,
     "metadata": {},
     "output_type": "execute_result"
    }
   ],
   "source": [
    "# wiki example\n",
    "encryption(\"The quick brown fox jumps over lazy dogs.\", \"vigenere\")"
   ]
  },
  {
   "cell_type": "markdown",
   "metadata": {},
   "source": [
    "https://cryptii.com/pipes/vigenere-cipher - correct."
   ]
  },
  {
   "cell_type": "markdown",
   "metadata": {},
   "source": [
    "## 4. Cryptanalysis"
   ]
  },
  {
   "cell_type": "code",
   "execution_count": 15,
   "metadata": {},
   "outputs": [],
   "source": [
    "filename = \"encrypted2.txt\"\n",
    "with open(filename, 'r') as file:\n",
    "    data = np.array(list(file.readline()))"
   ]
  },
  {
   "cell_type": "code",
   "execution_count": 16,
   "metadata": {},
   "outputs": [],
   "source": [
    "# custom test\n",
    "\n",
    "# data = \"\"\"vptnvffuntshtarptymjwzirappljmhhqvsubwlzzygvtyitarptyiougxiuydtgzhhvvmum\n",
    "# shwkzgstfmekvmpkswdgbilvjljmglmjfqwioiivknulvvfemioiemojtywdsajtwmtcgluy\n",
    "# sdsumfbieugmvalvxkjduetukatymvkqzhvqvgvptytjwwldyeevquhlulwpkt\n",
    "# \"\"\"\n",
    "# data = np.array(list(data.replace('\\n', '')))"
   ]
  },
  {
   "cell_type": "markdown",
   "metadata": {},
   "source": [
    "### 4.1 Find a key length"
   ]
  },
  {
   "cell_type": "code",
   "execution_count": 17,
   "metadata": {},
   "outputs": [],
   "source": [
    "keyLength = np.arange(5, 21)"
   ]
  },
  {
   "cell_type": "code",
   "execution_count": 18,
   "metadata": {},
   "outputs": [],
   "source": [
    "def get_coincidence_index(seq):\n",
    "    counts = np.unique(list(seq), return_counts=True)[1]\n",
    "    N = sum(counts)\n",
    "    \n",
    "    index = sum([(fi * (fi - 1)) for fi in counts]) / (N * (N - 1))\n",
    "    return index"
   ]
  },
  {
   "cell_type": "code",
   "execution_count": 19,
   "metadata": {},
   "outputs": [],
   "source": [
    "coincidenceIndexes = []\n",
    "\n",
    "for key in keyLength:\n",
    "    key_index = 0\n",
    "    for i in range(key):\n",
    "        seq = data[i::key]\n",
    "        key_index += get_coincidence_index(seq)\n",
    "    coincidenceIndexes.append(key_index / key)"
   ]
  },
  {
   "cell_type": "code",
   "execution_count": 20,
   "metadata": {},
   "outputs": [
    {
     "data": {
      "image/png": "[encoded data removed]",
      "text/plain": [
       "<Figure size 720x360 with 1 Axes>"
      ]
     },
     "metadata": {},
     "output_type": "display_data"
    }
   ],
   "source": [
    "fig, axis = plt.subplots(1, 1, figsize=(10, 5))\n",
    "\n",
    "axis.bar(np.arange(len(coincidenceIndexes)), coincidenceIndexes, tick_label=keyLength)\n",
    "axis.grid()"
   ]
  },
  {
   "cell_type": "code",
   "execution_count": 21,
   "metadata": {},
   "outputs": [],
   "source": [
    "# So, our key probably multiples of four"
   ]
  },
  {
   "cell_type": "markdown",
   "metadata": {},
   "source": [
    "### 4.2 Try to find a key"
   ]
  },
  {
   "cell_type": "code",
   "execution_count": 22,
   "metadata": {},
   "outputs": [],
   "source": [
    "ENGLISH = {\n",
    "    'e' :  0.1202, 't' :  0.091, 'a' :  0.0812, 'o' :  0.0768, 'i' :  0.0731,\n",
    "    'n' :  0.0695, 's' :  0.0628, 'r' :  0.0602, 'h' :  0.0592, 'd' :  0.0432,\n",
    "    'l' :  0.0398, 'u' :  0.0288, 'c' :  0.0271, 'm' :  0.0261, 'f' :  0.023, \n",
    "    'y' :  0.0211, 'w' :  0.0209, 'g' :  0.0203, 'p' :  0.0182, 'b' :  0.0149,\n",
    "    'v' :  0.0111, 'k' :  0.0069, 'x' :  0.0017, 'q' :  0.0011, 'j' :  0.001,\n",
    "    'z' :  0.0007\n",
    "}"
   ]
  },
  {
   "cell_type": "code",
   "execution_count": 23,
   "metadata": {},
   "outputs": [],
   "source": [
    "UKRANIAN = {\n",
    "    'а' : 0.0834, 'б' : 0.0153, 'в' : 0.055, 'г' : 0.0159, \n",
    "    'ґ' : 0.0001, 'д' : 0.0306, 'е' : 0.0459, 'є' : 0.0039, \n",
    "    'ж' : 0.0071, 'з' : 0.021, 'и' : 0.06, 'й' : 0.0124, \n",
    "    'і' : 0.0623, 'ї' : 0.0084, 'к' : 0.04, 'л' : 0.0393, \n",
    "    'м' : 0.0302, 'н' : 0.071, 'о' : 0.0928, 'п' : 0.0284, \n",
    "    'р' : 0.0548, 'с' : 0.0457, 'т' : 0.0477, 'у' : 0.0338, \n",
    "    'ф' : 0.0035, 'х' : 0.0117, 'ц' : 0.0102, 'ч' : 0.0115, \n",
    "    'ш' : 0.0071, 'щ' : 0.0032, 'ь' : 0.0183, 'ю' : 0.007, \n",
    "    'я' : 0.0216\n",
    "}"
   ]
  },
  {
   "cell_type": "code",
   "execution_count": 41,
   "metadata": {},
   "outputs": [],
   "source": [
    "period = 8"
   ]
  },
  {
   "cell_type": "code",
   "execution_count": 42,
   "metadata": {},
   "outputs": [],
   "source": [
    "def get_chi(seq, table):\n",
    "    coefficient = 0\n",
    "    for char in table.keys():\n",
    "        expected = len(seq) * table[char]\n",
    "        current = np.count_nonzero(seq == char)\n",
    "        \n",
    "        coefficient += (expected - current) ** 2 / expected\n",
    "    \n",
    "    return coefficient"
   ]
  },
  {
   "cell_type": "code",
   "execution_count": 59,
   "metadata": {},
   "outputs": [],
   "source": [
    "def backward_caesar(seq, shift, alphabet):\n",
    "    letters = np.unique(seq)\n",
    "    result = np.copy(seq)\n",
    "    for letter in letters:\n",
    "        oldIndex = alphabet.index(letter)\n",
    "        newIndex = (oldIndex - shift + len(alphabet)) % len(alphabet)\n",
    "\n",
    "        result[seq == letter] = alphabet[newIndex]\n",
    "    return result"
   ]
  },
  {
   "cell_type": "code",
   "execution_count": 60,
   "metadata": {},
   "outputs": [
    {
     "name": "stdout",
     "output_type": "stream",
     "text": [
      "abcdefghijklmnopqrstuvwxyz\n"
     ]
    }
   ],
   "source": [
    "print(ascii_lowercase)"
   ]
  },
  {
   "cell_type": "code",
   "execution_count": 92,
   "metadata": {},
   "outputs": [
    {
     "name": "stdout",
     "output_type": "stream",
     "text": [
      "с 4562.83724533604\n",
      "а 4133.54104021048\n",
      "л 4376.908142247158\n",
      "о 5202.636822080401\n",
      "с 5410.74249393708\n",
      "а 4468.449038338094\n",
      "л 4585.724126552579\n",
      "о 5318.591919300849\n"
     ]
    }
   ],
   "source": [
    "ALPHABET = \"абвгґдеєжзиіїйклмнопрстуфхцчшщьюя\"\n",
    "\n",
    "filename = \"encrypted2.txt\"\n",
    "with open(filename, 'r') as file:\n",
    "    data = np.array(list(file.readline()))\n",
    "    \n",
    "    \n",
    "period = 8\n",
    "for keyChar in range(period):\n",
    "    minChi, keyIndex = 9999, -1\n",
    "    for shift in range(len(UKRANIAN)):\n",
    "        seq = data[keyChar::period]\n",
    "        seq = backward_caesar(seq, shift, alphabet = ALPHABET)\n",
    "        currentChi = get_chi(seq, table = UKRANIAN)\n",
    "\n",
    "        if (currentChi < minChi):\n",
    "            minChi, keyIndex = currentChi, shift\n",
    "    print(ALPHABET[keyIndex], minChi)"
   ]
  },
  {
   "cell_type": "code",
   "execution_count": 93,
   "metadata": {},
   "outputs": [],
   "source": [
    "def decryption(ciphertext, keyword, alphabet = ascii_lowercase, ROT=0):\n",
    "    ciphertext = ciphertext.lower()\n",
    "    \n",
    "    table = get_vigenere_table(alphabet, ROT)\n",
    "    dictionary = get_alphabet_dictionary(alphabet)\n",
    "    \n",
    "    counter = 0\n",
    "    for i in range(len(ciphertext)):\n",
    "        cChar = ciphertext[i]\n",
    "        kChar = keyword[counter % len(keyword)]\n",
    "        \n",
    "        if not cChar.isalpha():\n",
    "            continue\n",
    "        else:\n",
    "            counter += 1\n",
    "            \n",
    "        cipherIndex = alphabet.index(cChar)\n",
    "        keyIndex = alphabet.index(kChar)\n",
    "        \n",
    "        print(alphabet[(cipherIndex - keyIndex + len(alphabet)) % len(alphabet)], end='')\n",
    "        if not (counter % 80):\n",
    "            print()\n",
    "        elif (counter > 500):\n",
    "            return"
   ]
  },
  {
   "cell_type": "code",
   "execution_count": 94,
   "metadata": {},
   "outputs": [],
   "source": [
    "filename = \"encrypted2.txt\"\n",
    "with open(filename, 'r') as file:\n",
    "    data = file.readline()"
   ]
  },
  {
   "cell_type": "code",
   "execution_count": 95,
   "metadata": {},
   "outputs": [
    {
     "name": "stdout",
     "output_type": "stream",
     "text": [
      "хлопчикщовиживмістерімісісдурсліщожиливбудинкуномерчотиринавуличціпрівітдрайвпиш\n",
      "алисятимщобулиславабогуабсолютнонормальнимикогокогоалетількинеїхможнабулобзапідо\n",
      "зритищовониповязанізтаємницямичидивамиботакимидурницямивонинецікавилисямістердур\n",
      "слікерувавфірмоюґраннінґсякавиготовляласвердлатобувтакийдебелийчоловягащоздаєтьс\n",
      "яйшиїнемавзатейогообличчяприкрашалипишнівусанатомістьмісісдурслібулахудорлявабіл\n",
      "явааїїшиябуламайжевдвічідовшаніжузвичайнихлюдейіцеставалоїйувеликійпригодінадтов\n",
      "жевонаполюблялазазира"
     ]
    }
   ],
   "source": [
    "decryption(data, 'сало', \"абвгґдеєжзиіїйклмнопрстуфхцчшщьюя\")"
   ]
  },
  {
   "cell_type": "markdown",
   "metadata": {},
   "source": [
    "so, it's Harry Potter text"
   ]
  }
 ],
 "metadata": {
  "kernelspec": {
   "display_name": "Python 3 (ipykernel)",
   "language": "python",
   "name": "python3"
  },
  "language_info": {
   "codemirror_mode": {
    "name": "ipython",
    "version": 3
   },
   "file_extension": ".py",
   "mimetype": "text/x-python",
   "name": "python",
   "nbconvert_exporter": "python",
   "pygments_lexer": "ipython3",
   "version": "3.9.13"
  }
 },
 "nbformat": 4,
 "nbformat_minor": 2
}
