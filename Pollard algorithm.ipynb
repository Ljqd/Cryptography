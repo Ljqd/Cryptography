{
 "cells": [
  {
   "cell_type": "code",
   "execution_count": 1,
   "id": "7f80a163",
   "metadata": {},
   "outputs": [],
   "source": [
    "import random\n",
    "import math"
   ]
  },
  {
   "cell_type": "code",
   "execution_count": 2,
   "id": "49b1d3a2",
   "metadata": {},
   "outputs": [],
   "source": [
    "def pollard(n, iteration = 0, recursion = 0):\n",
    "    if (n == 1):\n",
    "        return n\n",
    " \n",
    "    if (n % 2 == 0):\n",
    "        return 2\n",
    " \n",
    "    x = random.randint(0, 2)\n",
    "    y = x\n",
    "    c = random.randint(0, 2)\n",
    "    \n",
    "    d = 1\n",
    "    while d == 1:\n",
    "        print(\"Recursion: {}\".format(recursion))\n",
    "        print(\"\\tIteration: {}\".format(iteration))\n",
    "        print(\"\\tx = {}, y = {}\".format(x, y))\n",
    "        print(\"\\td = gcd(|x - y|, n) = {}\".format(d))\n",
    "        \n",
    "        if (d == n):\n",
    "            return pollard(n, iteration, recursion + 1)\n",
    "        \n",
    "        # Tortoise Move: x(i+1) = f(x(i))\n",
    "        x = (pow(x, 2, n) + c + n) % n\n",
    " \n",
    "        # Hare Move: y(i+1) = f(f(y(i)))\n",
    "        y = (pow(y, 2, n) + c + n) % n\n",
    "        y = (pow(y, 2, n) + c + n) % n\n",
    " \n",
    "        # check gcd of |x-y| and n\n",
    "        d = math.gcd(abs(x - y), n)\n",
    "        \n",
    "        iteration += 1\n",
    "    \n",
    "    print(\"Recursion: {}\".format(recursion))\n",
    "    print(\"\\tIteration: {}\".format(iteration))\n",
    "    print(\"\\tx = {}, y = {}\".format(x, y))\n",
    "    print(\"\\td = gcd(|x - y|, n) = {}\".format(d))\n",
    "     \n",
    "    return d"
   ]
  },
  {
   "cell_type": "code",
   "execution_count": 3,
   "id": "47ff552e",
   "metadata": {},
   "outputs": [
    {
     "name": "stdout",
     "output_type": "stream",
     "text": [
      "Recursion: 0\n",
      "\tIteration: 0\n",
      "\tx = 0, y = 0\n",
      "\td = gcd(|x - y|, n) = 1\n",
      "Recursion: 0\n",
      "\tIteration: 1\n",
      "\tx = 2, y = 6\n",
      "\td = gcd(|x - y|, n) = 1\n",
      "Recursion: 0\n",
      "\tIteration: 2\n",
      "\tx = 6, y = 1446\n",
      "\td = gcd(|x - y|, n) = 1\n",
      "Recursion: 0\n",
      "\tIteration: 3\n",
      "\tx = 38, y = 65183\n",
      "\td = gcd(|x - y|, n) = 1\n",
      "Recursion: 0\n",
      "\tIteration: 4\n",
      "\tx = 1446, y = 58907\n",
      "\td = gcd(|x - y|, n) = 1\n",
      "Recursion: 0\n",
      "\tIteration: 5\n",
      "\tx = 20591, y = 28693\n",
      "\td = gcd(|x - y|, n) = 1\n",
      "Recursion: 0\n",
      "\tIteration: 6\n",
      "\tx = 65183, y = 715\n",
      "\td = gcd(|x - y|, n) = 1\n",
      "Recursion: 0\n",
      "\tIteration: 7\n",
      "\tx = 19552, y = 91575\n",
      "\td = gcd(|x - y|, n) = 1\n",
      "Recursion: 0\n",
      "\tIteration: 8\n",
      "\tx = 58907, y = 40562\n",
      "\td = gcd(|x - y|, n) = 1\n",
      "Recursion: 0\n",
      "\tIteration: 9\n",
      "\tx = 68012, y = 10676\n",
      "\td = gcd(|x - y|, n) = 1\n",
      "Recursion: 0\n",
      "\tIteration: 10\n",
      "\tx = 28693, y = 36312\n",
      "\td = gcd(|x - y|, n) = 1\n",
      "Recursion: 0\n",
      "\tIteration: 11\n",
      "\tx = 86801, y = 47493\n",
      "\td = gcd(|x - y|, n) = 317\n",
      "n = 98587; Divisor: 317;\n"
     ]
    }
   ],
   "source": [
    "n = 98587\n",
    "p = pollard(n)\n",
    "\n",
    "print(\"n = {}; Divisor: {};\".format(n, p))"
   ]
  },
  {
   "cell_type": "code",
   "execution_count": 4,
   "id": "2a4e5ae4",
   "metadata": {},
   "outputs": [
    {
     "data": {
      "text/plain": [
       "(98587, 317, 311)"
      ]
     },
     "execution_count": 4,
     "metadata": {},
     "output_type": "execute_result"
    }
   ],
   "source": [
    "n, p, n // p"
   ]
  },
  {
   "cell_type": "code",
   "execution_count": 5,
   "id": "e98991aa",
   "metadata": {},
   "outputs": [
    {
     "data": {
      "text/plain": [
       "True"
      ]
     },
     "execution_count": 5,
     "metadata": {},
     "output_type": "execute_result"
    }
   ],
   "source": [
    "n == 317 * 311"
   ]
  },
  {
   "cell_type": "code",
   "execution_count": null,
   "id": "ff1e2c93",
   "metadata": {},
   "outputs": [],
   "source": []
  }
 ],
 "metadata": {
  "kernelspec": {
   "display_name": "Python 3 (ipykernel)",
   "language": "python",
   "name": "python3"
  },
  "language_info": {
   "codemirror_mode": {
    "name": "ipython",
    "version": 3
   },
   "file_extension": ".py",
   "mimetype": "text/x-python",
   "name": "python",
   "nbconvert_exporter": "python",
   "pygments_lexer": "ipython3",
   "version": "3.9.13"
  }
 },
 "nbformat": 4,
 "nbformat_minor": 5
}
