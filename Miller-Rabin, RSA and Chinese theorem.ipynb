{
 "cells": [
  {
   "cell_type": "code",
   "execution_count": 1,
   "id": "0cbc9ba3",
   "metadata": {},
   "outputs": [],
   "source": [
    "from random import randint\n",
    "import math\n",
    "import random"
   ]
  },
  {
   "cell_type": "markdown",
   "id": "7d4d6683",
   "metadata": {},
   "source": [
    "# 1. Miller-Rabin simplicity test"
   ]
  },
  {
   "cell_type": "code",
   "execution_count": 2,
   "id": "f2484e93",
   "metadata": {},
   "outputs": [],
   "source": [
    "def isPrime(n, k=5): # miller-rabin, (k - number of rounds)\n",
    "    if n < 2: \n",
    "        return False\n",
    "    \n",
    "    \n",
    "    for p in [2,3,5,7,11,13,17,19,23,29]:\n",
    "        if n % p == 0: return n == p\n",
    "    \n",
    "    \n",
    "    s, d = 0, n-1\n",
    "    while d % 2 == 0:\n",
    "        s, d = s+1, d/2\n",
    "    \n",
    "    \n",
    "    for i in range(k):\n",
    "        x = pow(randint(2, n-1), round(d), n)\n",
    "        \n",
    "        if x == 1 or x == n-1: continue\n",
    "        \n",
    "        for r in range(1, s):\n",
    "            x = (x * x) % n\n",
    "            if x == 1: \n",
    "                return False\n",
    "            if x == n-1: break\n",
    "        else: return False\n",
    "    return True"
   ]
  },
  {
   "cell_type": "code",
   "execution_count": 3,
   "id": "275be2c0",
   "metadata": {},
   "outputs": [
    {
     "name": "stdout",
     "output_type": "stream",
     "text": [
      "Composite \t 3157059378\n",
      "Composite \t 670418566\n",
      "Composite \t 3946776513\n",
      "Composite \t 3533369705\n",
      "Composite \t 491284423\n",
      "Composite \t 3878188881\n",
      "Composite \t 4061866084\n",
      "Composite \t 2247466663\n",
      "Composite \t 934078853\n",
      "Composite \t 1593714745\n",
      "Composite \t 2605754412\n",
      "Composite \t 917559046\n",
      "Composite \t 375202710\n",
      "Composite \t 1162029113\n",
      "Composite \t 2970182480\n",
      "Composite \t 216886346\n",
      "Composite \t 3861940264\n",
      "Composite \t 3872204768\n",
      "Composite \t 2311233854\n",
      "Composite \t 156355110\n",
      "Composite \t 2649956395\n",
      "Composite \t 2846980749\n",
      "Composite \t 2518252345\n",
      "Composite \t 3906272479\n",
      "Composite \t 2013298933\n",
      "Composite \t 1704676084\n",
      "Composite \t 717022100\n",
      "Composite \t 2501216998\n",
      "Composite \t 3309079579\n",
      "Composite \t 1405315698\n",
      "Composite \t 252186090\n",
      "Possibly prime \t 1779731929\n",
      "Composite \t 3313839254\n",
      "Composite \t 1254082428\n",
      "Composite \t 1650618332\n",
      "Composite \t 4176511282\n",
      "Composite \t 1659455494\n",
      "Composite \t 941958273\n",
      "Composite \t 1443551436\n",
      "Possibly prime \t 2495425481\n",
      "Composite \t 1116761835\n",
      "Composite \t 2506369151\n",
      "Composite \t 3532546769\n",
      "Composite \t 1496932780\n",
      "Composite \t 539695178\n",
      "Composite \t 1774538143\n",
      "Composite \t 3727367403\n",
      "Composite \t 1135134259\n",
      "Composite \t 3544631141\n",
      "Composite \t 2434254475\n",
      "Composite \t 780246557\n",
      "Composite \t 100457149\n",
      "Composite \t 676727215\n",
      "Composite \t 454963369\n",
      "Composite \t 2452868024\n",
      "Composite \t 3440664300\n",
      "Composite \t 4151336045\n",
      "Possibly prime \t 2201650471\n",
      "Composite \t 2757818073\n",
      "Composite \t 1886411290\n",
      "Composite \t 1813960833\n",
      "Composite \t 289223833\n",
      "Composite \t 1448655687\n",
      "Composite \t 3719761348\n",
      "Composite \t 3463328481\n",
      "Composite \t 741711692\n",
      "Composite \t 520842498\n",
      "Composite \t 1478091729\n",
      "Composite \t 1465246562\n",
      "Composite \t 3091853412\n",
      "Composite \t 2087955443\n",
      "Composite \t 2213697189\n",
      "Composite \t 1159070405\n",
      "Composite \t 897228878\n",
      "Composite \t 1725744555\n",
      "Composite \t 3969021747\n",
      "Composite \t 2678403069\n",
      "Composite \t 524947311\n",
      "Composite \t 2670738451\n",
      "Composite \t 1114583334\n",
      "Possibly prime \t 2374268327\n",
      "Composite \t 787495073\n",
      "Composite \t 1103187023\n",
      "Composite \t 3797876628\n",
      "Composite \t 2973572492\n",
      "Composite \t 1931566388\n",
      "Composite \t 2010899932\n",
      "Composite \t 2897708897\n",
      "Composite \t 3487580793\n",
      "Composite \t 1927956608\n",
      "Possibly prime \t 2635485443\n",
      "Composite \t 2048619822\n",
      "Composite \t 1035720816\n",
      "Composite \t 1662091888\n",
      "Composite \t 2252929454\n",
      "Composite \t 566176098\n",
      "Composite \t 1291604537\n",
      "Composite \t 847484594\n",
      "Composite \t 2931458678\n",
      "Composite \t 1546099218\n"
     ]
    }
   ],
   "source": [
    "for _ in range(100):\n",
    "    i = randint(3,2**32) # random number from [3, 2^32]\n",
    "    if isPrime(i):\n",
    "        print(\"Possibly prime \\t\",i) \n",
    "    else:\n",
    "\n",
    "        print(\"Composite \\t\",i) "
   ]
  },
  {
   "cell_type": "markdown",
   "id": "300816a4",
   "metadata": {},
   "source": [
    "# 2. RSA and Chinese residue theorem"
   ]
  },
  {
   "cell_type": "code",
   "execution_count": 4,
   "id": "f6c07faa",
   "metadata": {},
   "outputs": [],
   "source": [
    "def gcd(a, b):\n",
    "    while b:\n",
    "        a, b = b, a%b\n",
    "    return a\n",
    "\n",
    "def egcd(a, b):\n",
    "    if a == 0:\n",
    "        return (b, 0, 1)\n",
    "    else:\n",
    "        g, y, x = egcd(b % a, a)\n",
    "        return (g, x - (b // a) * y, y)\n",
    "\n",
    "# function to find modular inverse (d*e=1 ( mod fi(n)))\n",
    "def modinv(a,m):\n",
    "    g,x,y = egcd(a,m)\n",
    "    if g != 1:\n",
    "        return None\n",
    "    else:\n",
    "        return x%m\n",
    "\n",
    "def encrypt(m):\n",
    "    p = 587\n",
    "    q = 907\n",
    "    n=p*q\n",
    "    phi=(p-1)*(q-1)\n",
    "    e = randint(2,phi) #4\n",
    "    e+=(1-e%2) \n",
    "    while True:\n",
    "        if gcd(e,phi)==1:\n",
    "            break\n",
    "        else:\n",
    "            e+=2\n",
    "    d = modinv(e, phi)\n",
    "    c = (m**e) % n\n",
    "    return c,e,p,q,d"
   ]
  },
  {
   "cell_type": "code",
   "execution_count": 5,
   "id": "5d6bf05b",
   "metadata": {},
   "outputs": [],
   "source": [
    "def chinese_decr(dq, dp, p, q, c):\n",
    "\n",
    "    m1 = pow(c, dp, p)\n",
    "      \n",
    "\n",
    "    m2 = pow(c, dq, q)\n",
    "      \n",
    "    qinv = modinv(q, p)\n",
    "    h = (qinv * (m1 - m2)) % p\n",
    "    m = m2 + h * q\n",
    "    return m"
   ]
  },
  {
   "cell_type": "markdown",
   "id": "8599c4ea",
   "metadata": {},
   "source": [
    "$\\begin{array}{l} m1 = c^{dp} \\mod p \\\\ m2 = c^{dq} \\mod q \\\\ qinv = modinv(q,p) \\\\ h = (qinv \\cdot (m1 - m2)) \\mod p \\\\ m = m2 + h \\cdot q \\end{array}$"
   ]
  },
  {
   "cell_type": "code",
   "execution_count": 6,
   "id": "c08d6ed0",
   "metadata": {},
   "outputs": [
    {
     "name": "stdout",
     "output_type": "stream",
     "text": [
      "message:  123454\n",
      "encrypt: 215672\n",
      "decrypt:  123454\n"
     ]
    }
   ],
   "source": [
    "message = 123454\n",
    "print('message: ',message)\n",
    "se = encrypt(message)\n",
    "print('encrypt:', se[0])\n",
    "c,e,p,q,d = se\n",
    "dq = pow(d, 1, q - 1)\n",
    "dp = pow(d, 1, p - 1)\n",
    "print(\"decrypt: \",chinese_decr(dq, dp, p, q, c))"
   ]
  },
  {
   "cell_type": "code",
   "execution_count": null,
   "id": "a9f2dc5b",
   "metadata": {},
   "outputs": [],
   "source": []
  }
 ],
 "metadata": {
  "kernelspec": {
   "display_name": "Python 3 (ipykernel)",
   "language": "python",
   "name": "python3"
  },
  "language_info": {
   "codemirror_mode": {
    "name": "ipython",
    "version": 3
   },
   "file_extension": ".py",
   "mimetype": "text/x-python",
   "name": "python",
   "nbconvert_exporter": "python",
   "pygments_lexer": "ipython3",
   "version": "3.9.13"
  }
 },
 "nbformat": 4,
 "nbformat_minor": 5
}
