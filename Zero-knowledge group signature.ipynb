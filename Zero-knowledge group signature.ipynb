{
 "cells": [
  {
   "cell_type": "code",
   "execution_count": 100,
   "id": "8eb805d0",
   "metadata": {},
   "outputs": [
    {
     "name": "stdout",
     "output_type": "stream",
     "text": [
      "\tverify_signature\n",
      "If you see it - verification is correct\n",
      "\topen_signature\n",
      "Signature is valid and opened.\n"
     ]
    }
   ],
   "source": [
    "from petlib.ec import EcGroup\n",
    "from petlib.pack import encode\n",
    "from hashlib import sha256\n",
    "from zksk import Secret, DLRep\n",
    "\n",
    "# Initialize an elliptic curve group\n",
    "G = EcGroup(713)\n",
    "\n",
    "# Key generation for group manager and members\n",
    "x0 = G.order().random()\n",
    "g = G.generator()\n",
    "h0 = g.pt_mul(x0)\n",
    "\n",
    "m = 12\n",
    "\n",
    "# Public keys of group members\n",
    "private_keys = [G.order().random() for _ in range(m)]\n",
    "public_keys = [g.pt_mul(x) for x in private_keys]\n",
    "\n",
    "def generate_signature(member_idx, message):\n",
    "    \"\"\"Generates a group signature on a message by a member.\"\"\"\n",
    "    xi = private_keys[member_idx]\n",
    "    u = G.order().random()\n",
    "    A = g.pt_mul(u)\n",
    "    B = h0.pt_mul(u) + g.pt_mul(xi)\n",
    "    r = Secret(xi)\n",
    "    stmt = DLRep(A, r * g) & DLRep(B, r * h0)\n",
    "    zk_proof = stmt.prove()\n",
    "    commit = sha256(encode(message) + zk_proof.serialize())\n",
    "    return A, B, zk_proof, commit\n",
    "\n",
    "def verify_signature(A, B, zk_proof, commit, message):\n",
    "    \"\"\"Verifies a group signature on a message.\"\"\"\n",
    "    print(\"\\tverify_signature\")\n",
    "    recomputed_commit = sha256(encode(message) + zk_proof.serialize())\n",
    "    assert commit.digest() == recomputed_commit.digest()\n",
    "    print(\"If you see it - verification is correct\")\n",
    "\n",
    "def open_signature(A, B, member_idx, message):\n",
    "    \"\"\"Opens a group signature to reveal which member signed a message.\"\"\"\n",
    "    print(\"\\topen_signature\")\n",
    "    xi = private_keys[member_idx]\n",
    "    A_inv = A.pt_mul(x0).pt_mul(-1)\n",
    "    decrypted = B + A_inv\n",
    "    hi = public_keys[member_idx]\n",
    "    if decrypted == hi:\n",
    "        print(\"Signature is valid and opened.\")\n",
    "    else:\n",
    "        print(\"Invalid signature or opening.\")\n",
    "\n",
    "# Example usage\n",
    "message = b\"Hello, World!\"\n",
    "member_idx = 5\n",
    "A, B, zk_proof, response = generate_signature(member_idx, message)\n",
    "verify_signature(A, B, zk_proof, response, message)\n",
    "open_signature(A, B, member_idx, message)"
   ]
  },
  {
   "cell_type": "code",
   "execution_count": null,
   "id": "699d3bab",
   "metadata": {},
   "outputs": [],
   "source": []
  }
 ],
 "metadata": {
  "kernelspec": {
   "display_name": "Python 3 (ipykernel)",
   "language": "python",
   "name": "python3"
  },
  "language_info": {
   "codemirror_mode": {
    "name": "ipython",
    "version": 3
   },
   "file_extension": ".py",
   "mimetype": "text/x-python",
   "name": "python",
   "nbconvert_exporter": "python",
   "pygments_lexer": "ipython3",
   "version": "3.9.13"
  }
 },
 "nbformat": 4,
 "nbformat_minor": 5
}
