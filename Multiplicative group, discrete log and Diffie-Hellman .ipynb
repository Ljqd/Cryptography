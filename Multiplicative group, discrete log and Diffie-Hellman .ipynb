{
 "cells": [
  {
   "cell_type": "code",
   "execution_count": 53,
   "metadata": {},
   "outputs": [],
   "source": [
    "import math"
   ]
  },
  {
   "cell_type": "markdown",
   "metadata": {},
   "source": [
    "# 1. Finding generator of a multiplicative group "
   ]
  },
  {
   "cell_type": "code",
   "execution_count": 54,
   "metadata": {},
   "outputs": [],
   "source": [
    "# http://cacr.uwaterloo.ca/hac/about/chap4.pdf\n",
    "\n",
    "p = 7457"
   ]
  },
  {
   "cell_type": "code",
   "execution_count": 57,
   "metadata": {},
   "outputs": [],
   "source": [
    "import random as rand\n",
    "\n",
    "def find_gen(p):\n",
    "    for gen in range(2,p + 1):\n",
    "        if pow(gen,p-1,p) == 1:\n",
    "            for b in range(2,p - 1):\n",
    "                if pow(gen,b,p) == 1: break\n",
    "            else: return gen"
   ]
  },
  {
   "cell_type": "code",
   "execution_count": 58,
   "metadata": {},
   "outputs": [
    {
     "name": "stdout",
     "output_type": "stream",
     "text": [
      "3\n"
     ]
    }
   ],
   "source": [
    "print(find_gen(p))"
   ]
  },
  {
   "cell_type": "markdown",
   "metadata": {},
   "source": [
    "# 2. Discrete logarithm"
   ]
  },
  {
   "cell_type": "code",
   "execution_count": 46,
   "metadata": {},
   "outputs": [],
   "source": [
    "def discLog(a,b,p,N = None):\n",
    "    if not N: N = 1 + int(math.sqrt(p))\n",
    "    \n",
    "    baby_steps = {}\n",
    "    baby_step = 1\n",
    "    for r in range(N+1):\n",
    "        baby_steps[baby_step] = r\n",
    "        baby_step = baby_step * a % p\n",
    "\n",
    "    #now take the giant steps\n",
    "    giant_stride = pow(a,(p-2)*N,p)\n",
    "    giant_step = b\n",
    "    for q in range(N+1):\n",
    "        if giant_step in baby_steps:\n",
    "            return q*N + baby_steps[giant_step]\n",
    "        else:\n",
    "            giant_step = giant_step * giant_stride % p\n",
    "    return \"No Match\""
   ]
  },
  {
   "cell_type": "code",
   "execution_count": 47,
   "metadata": {},
   "outputs": [],
   "source": [
    "p = 70606432933607\n",
    "a = 100001\n",
    "b = 54696545758787\n",
    "\n",
    "t = pow(a, b, p)"
   ]
  },
  {
   "cell_type": "code",
   "execution_count": 48,
   "metadata": {},
   "outputs": [
    {
     "data": {
      "text/plain": [
       "54696545758787"
      ]
     },
     "execution_count": 48,
     "metadata": {},
     "output_type": "execute_result"
    }
   ],
   "source": [
    "discLog(a,t,p)"
   ]
  },
  {
   "cell_type": "markdown",
   "metadata": {},
   "source": [
    "# 3. Diffie-Hallman protocol\n",
    "\n",
    "(based on group G)"
   ]
  },
  {
   "cell_type": "code",
   "execution_count": 49,
   "metadata": {},
   "outputs": [],
   "source": [
    "class DifffieHellman(object):\n",
    "    def __init__(self, public_key1, public_key2, private_key):\n",
    "        self.public_key1 = public_key1\n",
    "        self.public_key2 = public_key2\n",
    "        self.private_key = private_key\n",
    "        self.full_key = None\n",
    "        \n",
    "    def generate_partial_key(self):\n",
    "        return pow(self.public_key1, self.private_key, self.public_key2)\n",
    "    \n",
    "    def generate_full_key(self, partial_key_r):\n",
    "        self.full_key = pow(partial_key_r, self.private_key, self.public_key2)\n",
    "        return self.full_key\n",
    "    \n",
    "    def encrypt_message(self, message):\n",
    "        encrypted_message = \"\"\n",
    "        key = self.full_key\n",
    "        for c in message:\n",
    "            encrypted_message += chr(ord(c)+key)\n",
    "        return encrypted_message\n",
    "    \n",
    "    def decrypt_message(self, encrypted_message):\n",
    "        decrypted_message = \"\"\n",
    "        key = self.full_key\n",
    "        for c in encrypted_message:\n",
    "            decrypted_message += chr(ord(c)-key)\n",
    "        return decrypted_message"
   ]
  },
  {
   "cell_type": "code",
   "execution_count": 50,
   "metadata": {},
   "outputs": [],
   "source": [
    "a_public=197\n",
    "a_private=199\n",
    "b_public=151\n",
    "b_private=157\n",
    "\n",
    "Alice = DifffieHellman(a_public, b_public, a_private)\n",
    "Bob = DifffieHellman(a_public, b_public, b_private)"
   ]
  },
  {
   "cell_type": "code",
   "execution_count": 51,
   "metadata": {},
   "outputs": [
    {
     "data": {
      "text/plain": [
       "75"
      ]
     },
     "execution_count": 51,
     "metadata": {},
     "output_type": "execute_result"
    }
   ],
   "source": [
    "partitial1 = Alice.generate_partial_key()\n",
    "partitial2 = Bob.generate_partial_key()\n",
    "\n",
    "Alice.generate_full_key(partitial2)\n",
    "Bob.generate_full_key(partitial1)"
   ]
  },
  {
   "cell_type": "code",
   "execution_count": 52,
   "metadata": {},
   "outputs": [
    {
     "name": "stdout",
     "output_type": "stream",
     "text": [
      "°··ºkÂº½·¯wk½°¯k±ºÃkµÀ»¸¾kºÁ°½k¿³°k·¬ÅÄk¯º²¾\n",
      "Hello world, red fox jupms over the lazy dogs\n"
     ]
    }
   ],
   "source": [
    "message=\"Hello world, red fox jupms over the lazy dogs\"\n",
    "\n",
    "cipher = Bob.encrypt_message(message)\n",
    "\n",
    "print(cipher)\n",
    "print(Alice.decrypt_message(cipher))"
   ]
  },
  {
   "cell_type": "code",
   "execution_count": null,
   "metadata": {},
   "outputs": [],
   "source": []
  },
  {
   "cell_type": "code",
   "execution_count": null,
   "metadata": {},
   "outputs": [],
   "source": []
  }
 ],
 "metadata": {
  "kernelspec": {
   "display_name": "Python 3 (ipykernel)",
   "language": "python",
   "name": "python3"
  },
  "language_info": {
   "codemirror_mode": {
    "name": "ipython",
    "version": 3
   },
   "file_extension": ".py",
   "mimetype": "text/x-python",
   "name": "python",
   "nbconvert_exporter": "python",
   "pygments_lexer": "ipython3",
   "version": "3.9.13"
  }
 },
 "nbformat": 4,
 "nbformat_minor": 2
}
